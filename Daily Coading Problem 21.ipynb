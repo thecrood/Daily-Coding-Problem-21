{
 "cells": [
  {
   "cell_type": "markdown",
   "id": "29a4f7ca",
   "metadata": {},
   "source": [
    "# Daily Coading Problem 21"
   ]
  },
  {
   "cell_type": "raw",
   "id": "b6ff2d6c",
   "metadata": {},
   "source": [
    "This problem was asked by Snapchat.\n",
    "\n",
    "Given an array of time intervals (start, end) for classroom lectures (possibly overlapping), find the minimum number of rooms required.\n",
    "\n",
    "For example, given [(30, 75), (0, 50), (60, 150)], you should return 2."
   ]
  },
  {
   "cell_type": "markdown",
   "id": "66f23f0b",
   "metadata": {},
   "source": [
    "# Solution\n",
    "\n",
    "First, notice that the minimum number of classroom halls is the maximum number of overlapping intervals.\n",
    "\n",
    "Now let's consider the naive approach. We could go through each interval and check every other interval and see if it overlaps, keeping track of the largest number of overlapping intervals.\n",
    "\n"
   ]
  },
  {
   "cell_type": "code",
   "execution_count": null,
   "id": "94239f9b",
   "metadata": {},
   "outputs": [],
   "source": [
    "def overlaps(a, b):\n",
    "    start_a, end_a = a\n",
    "    start_b, end_b = b\n",
    "    # It doesn't overlap if it's like this:\n",
    "    #   |start_a .... end_a|  <---> |start_b ... end_b|\n",
    "    # or like this:\n",
    "    #   |start_b .... end_b|  <---> |start_a ... end_a|\n",
    "    # so return not or either of these\n",
    "    return not (end_a < start_b or start_a > end_b)\n",
    "\n",
    "def max_overlapping(intervals):\n",
    "    current_max = 0\n",
    "    for interval in intervals:\n",
    "        num_overlapping = sum(overlaps(interval, other_interval)\n",
    "            for other_interval in intervals\n",
    "            if interval is not other_interval)\n",
    "        current_max = max(current_max, num_overlapping)\n",
    "    return current_max"
   ]
  },
  {
   "cell_type": "markdown",
   "id": "fa53931c",
   "metadata": {},
   "source": [
    "This would take O(n^2) time, since we're checking each interval pairwise. Can we do any better?\n",
    "\n",
    "One solution is to extract the start times and end times of all the intervals and sort them. Then we can start two pointers on each list, and consider the following:\n",
    "\n",
    "  * If the current start is before the current end, then we have a new overlap. Increment the start pointer.\n",
    "  * If the current start is after the current end, then our overlap closes. Increment the end pointer.\n",
    "  \n",
    "All that's left to do is keep a couple variables to keep track of the maximum number of overlaps we've seen so far and the current number of overlaps."
   ]
  },
  {
   "cell_type": "code",
   "execution_count": 22,
   "id": "6f8a1dae",
   "metadata": {},
   "outputs": [
    {
     "name": "stdout",
     "output_type": "stream",
     "text": [
      "2\n"
     ]
    }
   ],
   "source": [
    "def max_overlapping(intervals):\n",
    "    starts = sorted(start for start, end in intervals)\n",
    "    ends = sorted(end for start, end in intervals)\n",
    "\n",
    "    current_max = 0\n",
    "    current_overlap = 0\n",
    "    i, j = 0, 0\n",
    "    while i < len(intervals) and j < len(intervals):\n",
    "        if starts[i] < ends[j]:\n",
    "            current_overlap += 1\n",
    "            current_max = max(current_max, current_overlap)\n",
    "            i += 1\n",
    "        else:\n",
    "            current_overlap -= 1\n",
    "            j += 1\n",
    "    return current_max\n",
    "\n",
    "print(max_overlapping([(30, 75), (0, 50), (60, 150)]))"
   ]
  },
  {
   "cell_type": "markdown",
   "id": "5aaf5483",
   "metadata": {},
   "source": [
    "This runs in O(n log n) time, since we have to sort the intervals."
   ]
  }
 ],
 "metadata": {
  "kernelspec": {
   "display_name": "Python 3 (ipykernel)",
   "language": "python",
   "name": "python3"
  },
  "language_info": {
   "codemirror_mode": {
    "name": "ipython",
    "version": 3
   },
   "file_extension": ".py",
   "mimetype": "text/x-python",
   "name": "python",
   "nbconvert_exporter": "python",
   "pygments_lexer": "ipython3",
   "version": "3.8.10"
  }
 },
 "nbformat": 4,
 "nbformat_minor": 5
}
